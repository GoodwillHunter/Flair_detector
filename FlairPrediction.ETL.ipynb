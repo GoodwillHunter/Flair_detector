{
 "cells": [
  {
   "cell_type": "code",
   "execution_count": 2,
   "metadata": {},
   "outputs": [],
   "source": [
    "import json\n",
    "\n",
    "with open('data.json') as json_file:\n",
    "    data_all = json.load(json_file)"
   ]
  },
  {
   "cell_type": "raw",
   "metadata": {},
   "source": [
    "Features available - \n",
    "selftext\n",
    "author_fullname\n",
    "title\n",
    "downs\n",
    "upvote ratio\n",
    "subreddit_type\n",
    "ups\n",
    "total_awards_received\n",
    "score # same as upvotes check\n",
    "allow_live_comments\n",
    "num_comments\n",
    "created_utc\n",
    "\n",
    "link_flair_text"
   ]
  },
  {
   "cell_type": "code",
   "execution_count": 3,
   "metadata": {},
   "outputs": [],
   "source": [
    "article_title = []\n",
    "article_author = []\n",
    "\n",
    "article_flairs = []\n",
    "\n",
    "article_date = []\n",
    "article_comments = []\n",
    "article_score = []\n",
    "article_ups = []\n",
    "article_downs = []\n",
    "article_awards_received = []\n",
    "article_upvote_ratio = []\n",
    "article_allow_live_comments = []\n",
    "\n",
    "for i in range(0, len(data_all)):\n",
    "    article_title.append(data_all[i]['data']['title'])\n",
    "    article_author.append(data_all[i]['data']['author'])\n",
    "    article_ups.append(data_all[i]['data']['ups'])\n",
    "    article_downs.append(data_all[i]['data']['downs'])\n",
    "    article_flairs.append(data_all[i]['data']['link_flair_text'])\n",
    "    article_date.append(data_all[i]['data']['created_utc'])\n",
    "    article_comments.append(data_all[i]['data']['num_comments'])\n",
    "    article_score.append(data_all[i]['data']['score'])\n",
    "    article_awards_received.append(data_all[i]['data']['total_awards_received'])\n",
    "    article_upvote_ratio.append(data_all[i]['data']['upvote_ratio'])\n",
    "    article_allow_live_comments.append(data_all[i]['data']['allow_live_comments'])"
   ]
  },
  {
   "cell_type": "raw",
   "metadata": {},
   "source": [
    "So, the most important reasons / steps are:\n",
    "\n",
    "- Identify quality issues (e.g. missing values, wrong measurements, …)\n",
    "\n",
    "- Assess feature quality – how relevant is a certain measurement (e.g. use correlation matrix)\n",
    "\n",
    "- Get an idea on the value distribution of your data using statistical measures and visualizations"
   ]
  },
  {
   "cell_type": "code",
   "execution_count": 4,
   "metadata": {},
   "outputs": [
    {
     "name": "stdout",
     "output_type": "stream",
     "text": [
      "number of unique values - 17\n",
      "Sports\n",
      "Politics\n",
      "Policy/Economy\n",
      "Science/Technology\n",
      "Photography\n",
      "| Unverified Content / Disreputed Source |\n",
      "Unverified\n",
      "CAA-NRC-NPR\n",
      "| Social Media Rules |\n",
      "Coronavirus\n",
      "Business/Finance\n",
      "Non-Political\n",
      "See Comments\n",
      "| [OLD] Content |\n",
      "Food\n",
      "Scheduled\n",
      "AskIndia\n",
      "number of missing values - 0\n"
     ]
    }
   ],
   "source": [
    "# DATA QUALITY ASSISMENT\n",
    "# find missing values/ odd values\n",
    "\n",
    "unique = list(set(article_flairs))\n",
    "print(\"number of unique values - \" + str(len(unique)))\n",
    "for x in unique:\n",
    "    print(x)\n",
    "\n",
    "missing_values = 0\n",
    "for x in article_flairs:\n",
    "    if(type(x)==None):\n",
    "        missing_values = missing_values+1\n",
    "\n",
    "print(\"number of missing values - \"+ str(missing_values))"
   ]
  },
  {
   "cell_type": "raw",
   "metadata": {},
   "source": [
    "Observations - \n",
    "1. No missing values\n",
    "2. | Unverified Content / Disreputed Source | and Unverified are same and also not really flairs.\n",
    "3. Same for | [OLD] Content |, See Comments\n",
    "4. These entries can be removed from the dataset"
   ]
  },
  {
   "cell_type": "code",
   "execution_count": 5,
   "metadata": {},
   "outputs": [],
   "source": [
    "# distribution of data among flairs - \n",
    "distribution = {}\n",
    "for x in unique:\n",
    "    distribution[x] = 0"
   ]
  },
  {
   "cell_type": "code",
   "execution_count": 6,
   "metadata": {},
   "outputs": [
    {
     "name": "stdout",
     "output_type": "stream",
     "text": [
      "{'Sports': 3, 'Politics': 233, 'Policy/Economy': 45, 'Science/Technology': 29, 'Photography': 10, '| Unverified Content / Disreputed Source |': 1, 'Unverified': 2, 'CAA-NRC-NPR': 7, '| Social Media Rules |': 1, 'Coronavirus': 246, 'Business/Finance': 23, 'Non-Political': 243, 'See Comments': 2, '| [OLD] Content |': 1, 'Food': 14, 'Scheduled': 15, 'AskIndia': 199}\n"
     ]
    },
    {
     "data": {
      "text/plain": [
       "<BarContainer object of 17 artists>"
      ]
     },
     "execution_count": 6,
     "metadata": {},
     "output_type": "execute_result"
    },
    {
     "data": {
      "image/png": "[encoded data removed]",
      "text/plain": [
       "<Figure size 1800x360 with 1 Axes>"
      ]
     },
     "metadata": {
      "needs_background": "light"
     },
     "output_type": "display_data"
    }
   ],
   "source": [
    "from matplotlib import pyplot as plt\n",
    "\n",
    "for i in range(len(data_all)):\n",
    "    distribution[article_flairs[i]] += 1\n",
    "print(distribution)\n",
    "plt.figure(figsize=(25,5))\n",
    "plt.bar(distribution.keys(), distribution.values())"
   ]
  },
  {
   "cell_type": "raw",
   "metadata": {},
   "source": [
    "Observation -\n",
    "| Social Media Rules | also has very low representation, can be removed\n",
    "Politics, Non-political, AskIndia and Coronavirus have exceptionally high number of occurances"
   ]
  },
  {
   "cell_type": "code",
   "execution_count": 7,
   "metadata": {},
   "outputs": [
    {
     "name": "stdout",
     "output_type": "stream",
     "text": [
      "{'Sports': [60, 189, 25], 'Politics': [347, 66, 82, 31, 244, 228, 38, 39, 25, 69, 54, 96, 18, 71, 12, 87, 93, 30, 512, 7, 8, 14, 80, 29, 6, 18, 321, 12, 26, 4, 4, 408, 12, 143, 1, 1, 0, 162, 0, 57, 96, 23, 63, 145, 38, 103, 111, 41, 85, 88, 15, 0, 250, 0, 53, 63, 149, 7, 14, 58, 56, 0, 106, 17, 56, 134, 0, 71, 23, 9, 14, 41, 364, 195, 1, 123, 308, 360, 63, 7, 249, 3, 118, 8, 113, 32, 60, 0, 4, 348, 105, 192, 26, 0, 2, 0, 39, 61, 50, 0, 82, 225, 18, 30, 149, 161, 37, 26, 85, 1, 4, 32, 53, 38, 104, 77, 6, 0, 10, 678, 8, 10, 21, 831, 200, 39, 11, 604, 552, 18, 6, 123, 27, 603, 371, 39, 7, 82, 0, 5, 352, 50, 3, 29, 18, 25, 155, 191, 0, 74, 40, 1, 0, 184, 1, 11, 53, 111, 6, 23, 24, 15, 357, 75, 37, 83, 241, 44, 229, 42, 26, 70, 51, 97, 18, 75, 12, 86, 8, 98, 9, 33, 516, 13, 78, 34, 6, 18, 320, 11, 27, 4, 5, 411, 11, 148, 1, 1, 0, 165, 0, 58, 96, 21, 60, 144, 39, 102, 106, 39, 84, 87, 14, 2, 253, 0, 56, 64, 149, 6, 14, 59, 56, 0, 108, 17, 61, 131, 0, 71, 23, 11, 13], 'Policy/Economy': [116, 13, 43, 5, 7, 13, 1, 77, 9, 62, 2, 6, 22, 10, 250, 11, 128, 13, 30, 122, 10, 11, 8, 4, 15, 79, 9, 0, 41, 95, 43, 117, 16, 5, 8, 13, 1, 78, 10, 66, 2, 8, 24, 12, 250], 'Science/Technology': [12, 6, 4, 321, 207, 3, 18, 1, 4, 1, 3, 1, 4, 6, 19, 5, 289, 0, 0, 11, 13, 7, 4, 316, 206, 4, 17, 1, 5], 'Photography': [11, 15, 649, 6, 72, 3061, 0, 171, 9, 14], '| Unverified Content / Disreputed Source |': [4], 'Unverified': [1902, 1892], 'CAA-NRC-NPR': [42, 168, 238, 183, 248, 41, 168], '| Social Media Rules |': [388], 'Coronavirus': [162, 1466, 242, 96, 86, 75, 96, 29, 116, 37, 65, 18, 77, 50, 63, 35, 35, 16, 26, 28, 14, 14, 11, 5, 335, 4, 3, 11, 866, 25, 13, 143, 215, 160, 27, 1, 1, 5, 59, 6, 39, 3, 91, 420, 60, 56, 1, 41, 12, 14, 13, 3, 217, 35, 80, 140, 28, 8, 30, 3, 2, 29, 41, 12, 0, 14, 10, 1, 39, 14, 9, 7, 34, 23, 183, 11, 12, 2, 88, 9, 1767, 12, 264, 248, 7, 5, 127, 10, 276, 2, 42, 48, 19, 3, 2189, 28, 23, 23, 22, 56, 10, 14, 89, 89, 185, 68, 96, 47, 51, 1, 438, 33, 8, 33, 16, 1, 43, 17, 25, 2, 19, 4, 1, 22, 4, 2, 12, 8, 11, 19, 18, 29, 33, 7, 2, 7, 7, 16, 18, 0, 2, 0, 62, 8, 205, 45, 439, 26, 7, 0, 63, 3, 18, 13, 72, 261, 145, 13, 10, 0, 58, 1421, 15, 8, 24, 115, 2, 175, 42, 6, 8, 26, 46, 297, 167, 1463, 250, 97, 89, 79, 32, 95, 116, 33, 66, 20, 81, 50, 61, 32, 35, 15, 29, 18, 27, 13, 10, 6, 339, 4, 3, 11, 871, 26, 13, 141, 215, 165, 28, 1, 1, 5, 61, 6, 36, 4, 95, 419, 58, 58, 1, 41, 13, 15, 14, 4, 220, 34, 80, 138, 26, 5, 29, 2, 1, 26, 40, 11, 0, 14, 13, 1, 40, 15, 10, 7], 'Business/Finance': [7, 105, 256, 187, 49, 1, 48, 49, 18, 8, 1, 27, 26, 58, 21, 8, 102, 258, 190, 49, 1, 48, 47], 'Non-Political': [218, 3061, 132, 192, 137, 93, 92, 94, 32, 98, 25, 99, 15, 23, 24, 16, 36, 13, 21, 17, 84, 17, 11, 10, 8, 23, 5, 70, 162, 5, 2, 2174, 476, 8, 4, 1, 63, 0, 648, 43, 107, 179, 357, 4, 29, 2, 2, 21, 40, 45, 53, 22, 7, 199, 7, 1, 21, 1481, 30, 9, 21, 113, 9, 9, 17, 7, 7, 1, 2, 5, 145, 14, 122, 5, 15, 72, 1149, 2, 74, 12, 256, 13, 12, 1, 63, 37, 32, 303, 760, 5, 595, 271, 6, 118, 104, 42, 5, 25, 7, 0, 2, 0, 71, 26, 54, 88, 17, 13, 0, 8, 436, 0, 9, 9, 10, 36, 4, 399, 4, 5, 222, 2, 4, 26, 10, 15, 3, 10, 3, 5, 8, 4, 15, 0, 8, 7, 140, 152, 7, 308, 106, 480, 65, 43, 125, 45, 94, 63, 37, 2, 62, 161, 403, 4, 19, 4, 7, 21, 25, 62, 24, 3, 117, 10, 2129, 27, 12, 4, 117, 24, 75, 85, 5, 0, 0, 418, 7, 0, 3094, 133, 198, 140, 91, 95, 98, 31, 98, 28, 99, 16, 22, 18, 26, 35, 12, 20, 17, 87, 18, 12, 10, 8, 21, 4, 71, 160, 4, 2, 2171, 475, 9, 4, 1, 61, 0, 655, 46, 103, 182, 357, 2, 30, 3, 1, 20, 46, 43, 54, 22, 6, 199, 5, 1, 22, 1480, 31, 6, 21, 106, 8, 10, 15, 6], 'See Comments': [290, 290], '| [OLD] Content |': [22], 'Food': [17, 304, 1, 2, 305, 136, 0, 2, 808, 178, 19, 304, 1, 5], 'Scheduled': [6, 2, 0, 3, 1, 588, 6, 0, 7, 1, 0, 3, 5, 3, 0], 'AskIndia': [699, 39, 39, 106, 38, 10, 53, 17, 12, 7, 299, 11, 6, 7, 5, 4, 13, 2, 2, 9, 9, 3, 6, 2, 5, 0, 1, 8, 3, 444, 23, 35, 1, 2, 4, 0, 3, 19, 12, 94, 0, 0, 0, 9, 0, 5, 13, 8, 19, 0, 0, 0, 41, 5, 3, 11, 7, 5, 2, 23, 9, 11, 0, 0, 5, 0, 0, 2, 0, 5, 0, 2, 1, 1, 34, 0, 8, 8, 5, 1, 66, 29, 1, 4, 1, 1, 0, 0, 3, 8, 4, 3, 1, 19, 1, 8, 0, 21, 1, 0, 1, 1, 10, 5, 10, 7, 13, 11, 8, 5, 11, 2, 4, 8, 16, 19, 0, 5, 6, 3, 4, 5, 3, 5, 1, 61, 2, 64, 3, 23, 150, 0, 7, 73, 2, 27, 21, 29, 24, 5, 2, 7, 3, 22, 7, 3, 6, 4, 2, 25, 698, 37, 43, 108, 42, 11, 7, 13, 50, 16, 7, 301, 10, 7, 5, 5, 13, 2, 2, 8, 9, 4, 7, 2, 4, 0, 1, 9, 3, 451, 23, 39, 1, 2, 4, 0, 3, 19, 11, 95, 0, 0, 0, 8, 0, 7, 10, 7, 19]}\n"
     ]
    }
   ],
   "source": [
    "scoreVflair = {}\n",
    "for x in unique:\n",
    "    scoreVflair[x] = []\n",
    "\n",
    "for i in range(len(data_all)):\n",
    "    scoreVflair[article_flairs[i]].append(article_score[i])\n",
    "\n",
    "print(scoreVflair)"
   ]
  },
  {
   "cell_type": "code",
   "execution_count": 8,
   "metadata": {},
   "outputs": [
    {
     "data": {
      "text/plain": [
       "{'Sports': 91.33333333333333,\n",
       " 'Politics': 87.37339055793991,\n",
       " 'Policy/Economy': 41.44444444444444,\n",
       " 'Science/Technology': 51.310344827586206,\n",
       " 'Photography': 400.8,\n",
       " '| Unverified Content / Disreputed Source |': 4.0,\n",
       " 'Unverified': 1897.0,\n",
       " 'CAA-NRC-NPR': 155.42857142857142,\n",
       " '| Social Media Rules |': 388.0,\n",
       " 'Coronavirus': 94.0040650406504,\n",
       " 'Business/Finance': 68.0,\n",
       " 'Non-Political': 136.69958847736626,\n",
       " 'See Comments': 290.0,\n",
       " '| [OLD] Content |': 22.0,\n",
       " 'Food': 148.71428571428572,\n",
       " 'Scheduled': 41.666666666666664,\n",
       " 'AskIndia': 26.753768844221106}"
      ]
     },
     "execution_count": 8,
     "metadata": {},
     "output_type": "execute_result"
    }
   ],
   "source": [
    "avg_score = {}\n",
    "for x in unique:\n",
    "    total = 0\n",
    "    for y in scoreVflair[x]:\n",
    "        total += y\n",
    "    avg_score[x] = total/distribution[x]\n",
    "\n",
    "avg_score"
   ]
  },
  {
   "cell_type": "code",
   "execution_count": 9,
   "metadata": {},
   "outputs": [
    {
     "data": {
      "text/plain": [
       "{'whiskers': [<matplotlib.lines.Line2D at 0x7f4b2b34d250>,\n",
       "  <matplotlib.lines.Line2D at 0x7f4b2b34d790>,\n",
       "  <matplotlib.lines.Line2D at 0x7f4b2b35f890>,\n",
       "  <matplotlib.lines.Line2D at 0x7f4b2b35fd90>,\n",
       "  <matplotlib.lines.Line2D at 0x7f4b2b36fd90>,\n",
       "  <matplotlib.lines.Line2D at 0x7f4b2b376350>,\n",
       "  <matplotlib.lines.Line2D at 0x7f4b2b307390>,\n",
       "  <matplotlib.lines.Line2D at 0x7f4b2b3078d0>,\n",
       "  <matplotlib.lines.Line2D at 0x7f4b2b317950>,\n",
       "  <matplotlib.lines.Line2D at 0x7f4b2b317e50>,\n",
       "  <matplotlib.lines.Line2D at 0x7f4b2b328e90>,\n",
       "  <matplotlib.lines.Line2D at 0x7f4b2b332410>,\n",
       "  <matplotlib.lines.Line2D at 0x7f4b2b2c1410>,\n",
       "  <matplotlib.lines.Line2D at 0x7f4b2b2c1950>,\n",
       "  <matplotlib.lines.Line2D at 0x7f4b2b2d4950>,\n",
       "  <matplotlib.lines.Line2D at 0x7f4b2b2d4e90>,\n",
       "  <matplotlib.lines.Line2D at 0x7f4b2b2e4e10>,\n",
       "  <matplotlib.lines.Line2D at 0x7f4b2b2eb390>,\n",
       "  <matplotlib.lines.Line2D at 0x7f4b2b27d310>,\n",
       "  <matplotlib.lines.Line2D at 0x7f4b2b27d850>,\n",
       "  <matplotlib.lines.Line2D at 0x7f4b2b28d850>,\n",
       "  <matplotlib.lines.Line2D at 0x7f4b2b28dd90>,\n",
       "  <matplotlib.lines.Line2D at 0x7f4b2b29ed90>,\n",
       "  <matplotlib.lines.Line2D at 0x7f4b2b2a8310>,\n",
       "  <matplotlib.lines.Line2D at 0x7f4b2b238310>,\n",
       "  <matplotlib.lines.Line2D at 0x7f4b2b238850>,\n",
       "  <matplotlib.lines.Line2D at 0x7f4b2b249850>,\n",
       "  <matplotlib.lines.Line2D at 0x7f4b2b249d90>,\n",
       "  <matplotlib.lines.Line2D at 0x7f4b2b25ad90>,\n",
       "  <matplotlib.lines.Line2D at 0x7f4b2b262310>,\n",
       "  <matplotlib.lines.Line2D at 0x7f4b2b273310>,\n",
       "  <matplotlib.lines.Line2D at 0x7f4b2b273850>,\n",
       "  <matplotlib.lines.Line2D at 0x7f4b2b203850>,\n",
       "  <matplotlib.lines.Line2D at 0x7f4b2b203d90>],\n",
       " 'caps': [<matplotlib.lines.Line2D at 0x7f4b2b34dcd0>,\n",
       "  <matplotlib.lines.Line2D at 0x7f4b2b355250>,\n",
       "  <matplotlib.lines.Line2D at 0x7f4b2b367310>,\n",
       "  <matplotlib.lines.Line2D at 0x7f4b2b367850>,\n",
       "  <matplotlib.lines.Line2D at 0x7f4b2b376890>,\n",
       "  <matplotlib.lines.Line2D at 0x7f4b2b376e10>,\n",
       "  <matplotlib.lines.Line2D at 0x7f4b2b307e10>,\n",
       "  <matplotlib.lines.Line2D at 0x7f4b2b311390>,\n",
       "  <matplotlib.lines.Line2D at 0x7f4b2b3203d0>,\n",
       "  <matplotlib.lines.Line2D at 0x7f4b2b3208d0>,\n",
       "  <matplotlib.lines.Line2D at 0x7f4b2b332950>,\n",
       "  <matplotlib.lines.Line2D at 0x7f4b2b332e90>,\n",
       "  <matplotlib.lines.Line2D at 0x7f4b2b2c1e90>,\n",
       "  <matplotlib.lines.Line2D at 0x7f4b2b2ca410>,\n",
       "  <matplotlib.lines.Line2D at 0x7f4b2b2db410>,\n",
       "  <matplotlib.lines.Line2D at 0x7f4b2b2db950>,\n",
       "  <matplotlib.lines.Line2D at 0x7f4b2b2eb8d0>,\n",
       "  <matplotlib.lines.Line2D at 0x7f4b2b2ebe10>,\n",
       "  <matplotlib.lines.Line2D at 0x7f4b2b27dd90>,\n",
       "  <matplotlib.lines.Line2D at 0x7f4b2b287310>,\n",
       "  <matplotlib.lines.Line2D at 0x7f4b2b296310>,\n",
       "  <matplotlib.lines.Line2D at 0x7f4b2b296850>,\n",
       "  <matplotlib.lines.Line2D at 0x7f4b2b2a8850>,\n",
       "  <matplotlib.lines.Line2D at 0x7f4b2b2a8d90>,\n",
       "  <matplotlib.lines.Line2D at 0x7f4b2b238d90>,\n",
       "  <matplotlib.lines.Line2D at 0x7f4b2b23f310>,\n",
       "  <matplotlib.lines.Line2D at 0x7f4b2b253310>,\n",
       "  <matplotlib.lines.Line2D at 0x7f4b2b253850>,\n",
       "  <matplotlib.lines.Line2D at 0x7f4b2b262850>,\n",
       "  <matplotlib.lines.Line2D at 0x7f4b2b262d90>,\n",
       "  <matplotlib.lines.Line2D at 0x7f4b2b273d90>,\n",
       "  <matplotlib.lines.Line2D at 0x7f4b2b1fc310>,\n",
       "  <matplotlib.lines.Line2D at 0x7f4b2b20b310>,\n",
       "  <matplotlib.lines.Line2D at 0x7f4b2b20b850>],\n",
       " 'boxes': [<matplotlib.lines.Line2D at 0x7f4b2b33ecd0>,\n",
       "  <matplotlib.lines.Line2D at 0x7f4b2b35f290>,\n",
       "  <matplotlib.lines.Line2D at 0x7f4b2b36f850>,\n",
       "  <matplotlib.lines.Line2D at 0x7f4b2b300e10>,\n",
       "  <matplotlib.lines.Line2D at 0x7f4b2b3173d0>,\n",
       "  <matplotlib.lines.Line2D at 0x7f4b2b328950>,\n",
       "  <matplotlib.lines.Line2D at 0x7f4b2b2bae50>,\n",
       "  <matplotlib.lines.Line2D at 0x7f4b2b2d43d0>,\n",
       "  <matplotlib.lines.Line2D at 0x7f4b2b2e48d0>,\n",
       "  <matplotlib.lines.Line2D at 0x7f4b2b2f3d50>,\n",
       "  <matplotlib.lines.Line2D at 0x7f4b2b28d310>,\n",
       "  <matplotlib.lines.Line2D at 0x7f4b2b29e850>,\n",
       "  <matplotlib.lines.Line2D at 0x7f4b2b2b0d90>,\n",
       "  <matplotlib.lines.Line2D at 0x7f4b2b2492d0>,\n",
       "  <matplotlib.lines.Line2D at 0x7f4b2b25a810>,\n",
       "  <matplotlib.lines.Line2D at 0x7f4b2b269d90>,\n",
       "  <matplotlib.lines.Line2D at 0x7f4b2b203310>],\n",
       " 'medians': [<matplotlib.lines.Line2D at 0x7f4b2b3557d0>,\n",
       "  <matplotlib.lines.Line2D at 0x7f4b2b367d90>,\n",
       "  <matplotlib.lines.Line2D at 0x7f4b2b300390>,\n",
       "  <matplotlib.lines.Line2D at 0x7f4b2b3118d0>,\n",
       "  <matplotlib.lines.Line2D at 0x7f4b2b320e10>,\n",
       "  <matplotlib.lines.Line2D at 0x7f4b2b2ba410>,\n",
       "  <matplotlib.lines.Line2D at 0x7f4b2b2ca950>,\n",
       "  <matplotlib.lines.Line2D at 0x7f4b2b2dbe90>,\n",
       "  <matplotlib.lines.Line2D at 0x7f4b2b2f3390>,\n",
       "  <matplotlib.lines.Line2D at 0x7f4b2b287850>,\n",
       "  <matplotlib.lines.Line2D at 0x7f4b2b296d90>,\n",
       "  <matplotlib.lines.Line2D at 0x7f4b2b2b0310>,\n",
       "  <matplotlib.lines.Line2D at 0x7f4b2b23f850>,\n",
       "  <matplotlib.lines.Line2D at 0x7f4b2b253d90>,\n",
       "  <matplotlib.lines.Line2D at 0x7f4b2b269310>,\n",
       "  <matplotlib.lines.Line2D at 0x7f4b2b1fc850>,\n",
       "  <matplotlib.lines.Line2D at 0x7f4b2b20bd90>],\n",
       " 'fliers': [<matplotlib.lines.Line2D at 0x7f4b2b355d10>,\n",
       "  <matplotlib.lines.Line2D at 0x7f4b2b36f310>,\n",
       "  <matplotlib.lines.Line2D at 0x7f4b2b3008d0>,\n",
       "  <matplotlib.lines.Line2D at 0x7f4b2b311e10>,\n",
       "  <matplotlib.lines.Line2D at 0x7f4b2b3283d0>,\n",
       "  <matplotlib.lines.Line2D at 0x7f4b2b2ba950>,\n",
       "  <matplotlib.lines.Line2D at 0x7f4b2b2cae90>,\n",
       "  <matplotlib.lines.Line2D at 0x7f4b2b2e4410>,\n",
       "  <matplotlib.lines.Line2D at 0x7f4b2b2f3890>,\n",
       "  <matplotlib.lines.Line2D at 0x7f4b2b287d90>,\n",
       "  <matplotlib.lines.Line2D at 0x7f4b2b29e310>,\n",
       "  <matplotlib.lines.Line2D at 0x7f4b2b2b0850>,\n",
       "  <matplotlib.lines.Line2D at 0x7f4b2b23fd90>,\n",
       "  <matplotlib.lines.Line2D at 0x7f4b2b25a310>,\n",
       "  <matplotlib.lines.Line2D at 0x7f4b2b269850>,\n",
       "  <matplotlib.lines.Line2D at 0x7f4b2b1fcd90>,\n",
       "  <matplotlib.lines.Line2D at 0x7f4b2b215310>],\n",
       " 'means': []}"
      ]
     },
     "execution_count": 9,
     "metadata": {},
     "output_type": "execute_result"
    },
    {
     "data": {
      "image/png": "[encoded data removed]",
      "text/plain": [
       "<Figure size 1800x3600 with 1 Axes>"
      ]
     },
     "metadata": {
      "needs_background": "light"
     },
     "output_type": "display_data"
    }
   ],
   "source": [
    "plt.figure(figsize=(25,50))\n",
    "plt.boxplot(scoreVflair.values())"
   ]
  },
  {
   "cell_type": "code",
   "execution_count": 10,
   "metadata": {},
   "outputs": [
    {
     "data": {
      "text/plain": [
       "509"
      ]
     },
     "execution_count": 10,
     "metadata": {},
     "output_type": "execute_result"
    }
   ],
   "source": [
    "unique_authors = list(set(article_author))\n",
    "len(unique_authors)"
   ]
  },
  {
   "cell_type": "raw",
   "metadata": {},
   "source": [
    "Observation - there are 500+ authors for 1000 datapoints\n",
    "Not a good feature"
   ]
  },
  {
   "cell_type": "code",
   "execution_count": 11,
   "metadata": {},
   "outputs": [
    {
     "data": {
      "text/plain": [
       "[False, True]"
      ]
     },
     "execution_count": 11,
     "metadata": {},
     "output_type": "execute_result"
    }
   ],
   "source": [
    "unique_allow_live_comments = list(set(article_allow_live_comments))\n",
    "unique_allow_live_comments"
   ]
  },
  {
   "cell_type": "raw",
   "metadata": {},
   "source": [
    "DATA CLEANSING AND EXPORT DONE AHEAD"
   ]
  },
  {
   "cell_type": "code",
   "execution_count": 13,
   "metadata": {},
   "outputs": [],
   "source": [
    "f = open(\"data.csv\", \"a\")\n",
    "f.write('date,num_comments,score,awards,upvote_ratio,allow_comments,flairs')\n",
    "f.write('\\n')\n",
    "for i in range(len(data_all)):\n",
    "    if article_flairs[i] not in [\"| Social Media Rules |\", \"| [OLD] Content |\", \"| Unverified Content / Disreputed Source |\", \"Unverified\", \"See Comments\"]:\n",
    "        ans = '{},{},{},{},{},{},{}'.format(article_date[i], article_comments[i], article_score[i], article_awards_received[i], article_upvote_ratio[i], article_allow_live_comments[i], article_flairs[i])\n",
    "        f.write(ans)\n",
    "        f.write('\\n')\n",
    "f.close()"
   ]
  },
  {
   "cell_type": "code",
   "execution_count": null,
   "metadata": {},
   "outputs": [],
   "source": []
  }
 ],
 "metadata": {
  "kernelspec": {
   "display_name": "Python 3",
   "language": "python",
   "name": "python3"
  },
  "language_info": {
   "codemirror_mode": {
    "name": "ipython",
    "version": 3
   },
   "file_extension": ".py",
   "mimetype": "text/x-python",
   "name": "python",
   "nbconvert_exporter": "python",
   "pygments_lexer": "ipython3",
   "version": "3.7.5"
  }
 },
 "nbformat": 4,
 "nbformat_minor": 4
}
